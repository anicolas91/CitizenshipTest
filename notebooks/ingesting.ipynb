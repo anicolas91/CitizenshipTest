{
 "cells": [
  {
   "cell_type": "markdown",
   "metadata": {},
   "source": [
    "## Ingestion\n",
    "This notebook downloads the latest citizenship test questions and parses them into text"
   ]
  },
  {
   "cell_type": "code",
   "execution_count": 93,
   "metadata": {},
   "outputs": [],
   "source": [
    "import os\n",
    "import re\n",
    "import json\n",
    "import requests\n",
    "from PyPDF2 import PdfReader\n"
   ]
  },
  {
   "cell_type": "code",
   "execution_count": 94,
   "metadata": {},
   "outputs": [
    {
     "name": "stdout",
     "output_type": "stream",
     "text": [
      "PDF downloaded and saved as 2008_civics_test.pdf\n",
      "PDF downloaded and saved as 2025_civics_test.pdf\n"
     ]
    }
   ],
   "source": [
    "\n",
    "# Step 1: Download the PDF\n",
    "url_2008 = \"https://www.uscis.gov/sites/default/files/document/questions-and-answers/100q.pdf\"\n",
    "url_2025 = \"https://www.uscis.gov/sites/default/files/document/questions-and-answers/2025-Civics-Test-128-Questions-and-Answers.pdf\"\n",
    "\n",
    "tests = [\n",
    "    {\n",
    "        \"test_type\": \"2008_civics_test\",\n",
    "        \"url\": url_2008\n",
    "    },\n",
    "    {\n",
    "        \"test_type\": \"2025_civics_test\",\n",
    "        \"url\": url_2025\n",
    "    }\n",
    "]\n",
    "\n",
    "for test in tests:\n",
    "    url = test[\"url\"]\n",
    "    filename = test[\"test_type\"]+\".pdf\"\n",
    "\n",
    "    # Download and save\n",
    "    response = requests.get(url)\n",
    "    with open(filename, \"wb\") as f:\n",
    "        f.write(response.content)\n",
    "\n",
    "    print(f\"PDF downloaded and saved as {filename}\")\n",
    "\n"
   ]
  },
  {
   "cell_type": "code",
   "execution_count": 95,
   "metadata": {},
   "outputs": [
    {
     "name": "stdout",
     "output_type": "stream",
     "text": [
      "Extracted 128 QnAs into 2025_civics_test_qa_pairs.json\n",
      "Extracted 100 QnAs into 2008_civics_test_qa_pairs.json\n"
     ]
    }
   ],
   "source": [
    "for test in reversed(tests):\n",
    "    filename = test[\"test_type\"]+\".pdf\"\n",
    "    # Step 2: Parse text from the PDF\n",
    "    reader = PdfReader(filename)\n",
    "    all_text = \"\"\n",
    "\n",
    "    for page in reader.pages:\n",
    "        text = page.extract_text()\n",
    "        if text:\n",
    "            all_text += text + \"\\n\"\n",
    "\n",
    "    # clean up a bit\n",
    "    all_text = all_text.replace(\"\\t\", \" \").replace(\"  \", \" \")\n",
    "\n",
    "    # Split the text into question blocks by looking for numbers at the start of a line\n",
    "    # The regex looks for a number followed by a dot and spaces, using a lookahead for next number or end of string\n",
    "    blocks = re.split(r\"\\n?\\s*\\d+\\.\\s+\", all_text)\n",
    "\n",
    "\n",
    "    qa_pairs = []\n",
    "\n",
    "    for block in blocks[1:]: # we skip the first block since it is just intro data\n",
    "        block = block.strip()\n",
    "        if not block:\n",
    "            continue\n",
    "\n",
    "        # First line is the question, the rest are answers\n",
    "        lines = block.splitlines()\n",
    "        question = lines[0].strip()\n",
    "        \n",
    "        # Keep only lines starting with a bullet \"•\", remove the bullet and extra spaces\n",
    "        # answers = [re.sub(r\"^•\\s*\", \"\", line).strip() for line in lines[1:] if line.strip().startswith(\"•\")]\n",
    "        # Keep lines starting with • or ▪, remove the bullet and extra spaces\n",
    "        # Define bullet characters you want to support\n",
    "\n",
    "        answers = [\n",
    "            line.strip()[1:].strip()\n",
    "            for line in lines[1:]\n",
    "            if line.strip().startswith((\"•\", \"▪\"))\n",
    "        ]\n",
    "\n",
    "        qa_pairs.append({\n",
    "            \"question\": question,\n",
    "            \"answers\": answers\n",
    "        })\n",
    "\n",
    "    # Save to JSON\n",
    "    savefile = test[\"test_type\"]+\"_qa_pairs.json\"\n",
    "    with open(savefile, \"w\", encoding=\"utf-8\") as f:\n",
    "        json.dump(qa_pairs, f, ensure_ascii=False, indent=2)\n",
    "\n",
    "    print(f\"Extracted {len(qa_pairs)} QnAs into {savefile}\")\n"
   ]
  },
  {
   "cell_type": "code",
   "execution_count": null,
   "metadata": {},
   "outputs": [],
   "source": []
  }
 ],
 "metadata": {
  "kernelspec": {
   "display_name": ".venv",
   "language": "python",
   "name": "python3"
  },
  "language_info": {
   "codemirror_mode": {
    "name": "ipython",
    "version": 3
   },
   "file_extension": ".py",
   "mimetype": "text/x-python",
   "name": "python",
   "nbconvert_exporter": "python",
   "pygments_lexer": "ipython3",
   "version": "3.12.3"
  }
 },
 "nbformat": 4,
 "nbformat_minor": 2
}
