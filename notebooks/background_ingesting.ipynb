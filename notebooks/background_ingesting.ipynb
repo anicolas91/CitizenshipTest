{
 "cells": [
  {
   "cell_type": "markdown",
   "id": "46362ba6",
   "metadata": {},
   "source": [
    "## Civics guide Ingestion\n",
    "This notebook downloads the civics guide pdf, and parses the data into text and chunks it."
   ]
  },
  {
   "cell_type": "code",
   "execution_count": 174,
   "id": "6c0db8c4",
   "metadata": {},
   "outputs": [],
   "source": [
    "import re\n",
    "import requests\n",
    "from PyPDF2 import PdfReader"
   ]
  },
  {
   "cell_type": "markdown",
   "id": "c4fd743b",
   "metadata": {},
   "source": [
    "## Ingestion of raw data"
   ]
  },
  {
   "cell_type": "markdown",
   "id": "1ecc8e7f",
   "metadata": {},
   "source": [
    "### PDF downloading"
   ]
  },
  {
   "cell_type": "code",
   "execution_count": 175,
   "id": "9b660426",
   "metadata": {},
   "outputs": [
    {
     "name": "stdout",
     "output_type": "stream",
     "text": [
      "PDF downloaded and saved as ../documents/civics_guide.pdf\n"
     ]
    }
   ],
   "source": [
    "# download PDF\n",
    "url = \"https://www.uscis.gov/sites/default/files/document/brochures/OOC_M-1175_CivicsTextbook_8.5x11_V7_RGB_English_508.pdf\"\n",
    "\n",
    "filename = \"../documents/civics_guide.pdf\"\n",
    "\n",
    "# Download and save\n",
    "response = requests.get(url)\n",
    "with open(filename, \"wb\") as f:\n",
    "    f.write(response.content)\n",
    "\n",
    "print(f\"PDF downloaded and saved as {filename}\")"
   ]
  },
  {
   "cell_type": "markdown",
   "id": "264b5853",
   "metadata": {},
   "source": [
    "### Parsing and slight text cleanup"
   ]
  },
  {
   "cell_type": "code",
   "execution_count": 176,
   "id": "575b8e39",
   "metadata": {},
   "outputs": [],
   "source": [
    "reader = PdfReader(filename)\n",
    "all_text = []\n",
    "\n",
    "total_pages = len(reader.pages)\n",
    "\n",
    "for i, page in enumerate(reader.pages):\n",
    "    # Skip first 4 pages\n",
    "    if i < 4:\n",
    "        continue\n",
    "\n",
    "    # Skip last 7 pages\n",
    "    if i >= total_pages - 7:\n",
    "        continue\n",
    "    \n",
    "    text = page.extract_text()\n",
    "    if text:\n",
    "        # Remove common repeating sections\n",
    "        lines = text.split('\\n')\n",
    "        filtered_lines = []\n",
    "        skip_section = False\n",
    "        skip_test_section = False  # NEW: separate flag for TEST YOUR KNOWLEDGE\n",
    "        \n",
    "        for line in lines:\n",
    "            # Check if line contains \"TEST YOUR KNOWLEDGE\" \n",
    "            if \"TEST YOUR KNOWLEDGE\" in line.upper():\n",
    "                # Keep text before \"TEST YOUR KNOWLEDGE\" if any\n",
    "                before_test = re.split(r'TEST YOUR KNOWLEDGE', line, flags=re.IGNORECASE)[0]\n",
    "                if before_test.strip():\n",
    "                    filtered_lines.append(before_test)\n",
    "                skip_test_section = True\n",
    "                continue\n",
    "            \n",
    "            # Check if we've reached the end of TEST YOUR KNOWLEDGE section\n",
    "            if skip_test_section and \"you may study just the questions that have been marked with an asterisk\" in line.lower():\n",
    "                skip_test_section = False\n",
    "                continue  # Skip this line too\n",
    "            \n",
    "            # If we're in TEST YOUR KNOWLEDGE section, skip everything\n",
    "            if skip_test_section:\n",
    "                continue\n",
    "            \n",
    "            # Skip the instruction boxes about bold text and red boxes, as well as most image footers\n",
    "            if any(phrase in line for phrase in [\n",
    "                \"Within each chapter there are some\",\n",
    "                \"sentences and phrases that are written\",\n",
    "                \"in bold font\",\n",
    "                \"number in a red box\",\n",
    "                \"Civics Test Questions\",\n",
    "                \"For example, the following sentence\",\n",
    "                \"This sentence is from Question\",\n",
    "                \"Photo by\",\n",
    "                \"Courtesy of\",\n",
    "                \"Associate Justice Sonia\",\n",
    "                \"President George W. Bush\",\n",
    "                \"President Obama\"\n",
    "                \n",
    "                ]):\n",
    "                skip_section = True\n",
    "                continue\n",
    "                \n",
    "            # Resume after sections end (look for next chapter or content)\n",
    "            if skip_section and (line.startswith(\"CHAPTER\") or len(line.strip()) > 50):\n",
    "                skip_section = False\n",
    "            \n",
    "            if not skip_section:\n",
    "                # Remove the book title from the line (case insensitive)\n",
    "                original_line = line\n",
    "                line = re.sub(r'ONE NATION, ONE PEOPLE:?\\s*(THE USCIS CIVICS TEST TEXTBOOK)?', '', line, flags=re.IGNORECASE)\n",
    "                \n",
    "                # Remove 1-3 digit numbers that appear right before a period or colon\n",
    "                line = re.sub(r'\\s\\d{1,3}\\.', '.', line)\n",
    "                line = re.sub(r'\\s\\d{1,3}\\:', ':', line)\n",
    "                line = re.sub(r'^\\d{1,3}\\.\\s*', '', line)\n",
    "                line = re.sub(r'^\\d{1,3}\\:\\s*', ':', line)\n",
    "                line = re.sub(r'^\\s*\\d{1,3}\\s*$', '', line)\n",
    "                \n",
    "                # Remove leftover info from the example question boxes in red\n",
    "                line = line.replace('written? 1787  66  ', '')\n",
    "                \n",
    "                # Skip lines that start with CHAPTER\n",
    "                if line.strip().startswith(\"CHAPTER\"):\n",
    "                    continue\n",
    "                \n",
    "                # Only add non-empty lines to filtered_lines\n",
    "                if line.strip():\n",
    "                    filtered_lines.append(line)\n",
    "        \n",
    "        all_text.append('\\n'.join(filtered_lines))"
   ]
  },
  {
   "cell_type": "markdown",
   "id": "df797ef9",
   "metadata": {},
   "source": [
    "### Manual verification: saving to txt file for quick check"
   ]
  },
  {
   "cell_type": "code",
   "execution_count": 177,
   "id": "13aa6807",
   "metadata": {},
   "outputs": [],
   "source": [
    "text_2_save = \"\\n\\n================NEW PAGE================\\n\\n\".join(all_text)"
   ]
  },
  {
   "cell_type": "code",
   "execution_count": 178,
   "id": "2b8c96e8",
   "metadata": {},
   "outputs": [
    {
     "name": "stdout",
     "output_type": "stream",
     "text": [
      "Text saved to ../documents/parsed_civics_guide.txt\n"
     ]
    }
   ],
   "source": [
    "# save parsing into a text file to proofread\n",
    "output_filename = '../documents/parsed_civics_guide.txt'\n",
    "\n",
    "with open(output_filename, 'w', encoding='utf-8') as f:\n",
    "    f.write(text_2_save)\n",
    "\n",
    "print(f\"Text saved to {output_filename}\")"
   ]
  },
  {
   "cell_type": "markdown",
   "id": "4b4cd868",
   "metadata": {},
   "source": [
    "## Qdrant"
   ]
  },
  {
   "cell_type": "markdown",
   "id": "4b9904e5",
   "metadata": {},
   "source": [
    "### Setup of qdrant"
   ]
  }
 ],
 "metadata": {
  "kernelspec": {
   "display_name": ".venv",
   "language": "python",
   "name": "python3"
  },
  "language_info": {
   "codemirror_mode": {
    "name": "ipython",
    "version": 3
   },
   "file_extension": ".py",
   "mimetype": "text/x-python",
   "name": "python",
   "nbconvert_exporter": "python",
   "pygments_lexer": "ipython3",
   "version": "3.13.5"
  }
 },
 "nbformat": 4,
 "nbformat_minor": 5
}
