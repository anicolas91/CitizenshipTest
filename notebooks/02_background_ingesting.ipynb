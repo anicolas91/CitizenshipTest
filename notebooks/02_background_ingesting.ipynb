{
 "cells": [
  {
   "cell_type": "markdown",
   "id": "46362ba6",
   "metadata": {},
   "source": [
    "## Civics guide Ingestion\n",
    "This notebook downloads the civics guide pdf, and parses the data into text and chunks it."
   ]
  },
  {
   "cell_type": "code",
   "execution_count": 8,
   "id": "6c0db8c4",
   "metadata": {},
   "outputs": [],
   "source": [
    "import re\n",
    "import json\n",
    "import uuid\n",
    "import requests\n",
    "from typing import Dict\n",
    "from PyPDF2 import PdfReader"
   ]
  },
  {
   "cell_type": "markdown",
   "id": "c4fd743b",
   "metadata": {},
   "source": [
    "## Ingestion of raw data"
   ]
  },
  {
   "cell_type": "markdown",
   "id": "1ecc8e7f",
   "metadata": {},
   "source": [
    "### PDF downloading"
   ]
  },
  {
   "cell_type": "code",
   "execution_count": 9,
   "id": "9b660426",
   "metadata": {},
   "outputs": [
    {
     "name": "stdout",
     "output_type": "stream",
     "text": [
      "PDF downloaded and saved as ../documents/civics_guide.pdf\n"
     ]
    }
   ],
   "source": [
    "# download PDF\n",
    "url = \"https://www.uscis.gov/sites/default/files/document/brochures/OOC_M-1175_CivicsTextbook_8.5x11_V7_RGB_English_508.pdf\"\n",
    "\n",
    "filename = \"../documents/civics_guide.pdf\"\n",
    "\n",
    "# Download and save\n",
    "response = requests.get(url)\n",
    "with open(filename, \"wb\") as f:\n",
    "    f.write(response.content)\n",
    "\n",
    "print(f\"PDF downloaded and saved as {filename}\")"
   ]
  },
  {
   "cell_type": "code",
   "execution_count": 10,
   "id": "64848ab3",
   "metadata": {},
   "outputs": [],
   "source": [
    "def save_to_json(savefile: str, qa_pairs: Dict) ->None:\n",
    "    \"small script to save results to a json file\"\n",
    "    \n",
    "    with open(savefile, \"w\", encoding=\"utf-8\") as f:\n",
    "        json.dump(qa_pairs, f, ensure_ascii=False, indent=2)"
   ]
  },
  {
   "cell_type": "markdown",
   "id": "264b5853",
   "metadata": {},
   "source": [
    "### Parsing and slight text cleanup"
   ]
  },
  {
   "cell_type": "code",
   "execution_count": 11,
   "id": "575b8e39",
   "metadata": {},
   "outputs": [],
   "source": [
    "reader = PdfReader(filename)\n",
    "all_text = []\n",
    "\n",
    "total_pages = len(reader.pages)\n",
    "\n",
    "for i, page in enumerate(reader.pages):\n",
    "    # Skip first 4 pages\n",
    "    if i < 4:\n",
    "        continue\n",
    "\n",
    "    # Skip last 7 pages\n",
    "    if i >= total_pages - 7:\n",
    "        continue\n",
    "    \n",
    "    text = page.extract_text()\n",
    "    if text:\n",
    "        # Remove common repeating sections\n",
    "        lines = text.split('\\n')\n",
    "        filtered_lines = []\n",
    "        skip_section = False\n",
    "        skip_test_section = False  # NEW: separate flag for TEST YOUR KNOWLEDGE\n",
    "        \n",
    "        for line in lines:\n",
    "            # Check if line contains \"TEST YOUR KNOWLEDGE\" \n",
    "            if \"TEST YOUR KNOWLEDGE\" in line.upper():\n",
    "                # Keep text before \"TEST YOUR KNOWLEDGE\" if any\n",
    "                before_test = re.split(r'TEST YOUR KNOWLEDGE', line, flags=re.IGNORECASE)[0]\n",
    "                if before_test.strip():\n",
    "                    filtered_lines.append(before_test)\n",
    "                skip_test_section = True\n",
    "                continue\n",
    "            \n",
    "            # Check if we've reached the end of TEST YOUR KNOWLEDGE section\n",
    "            if skip_test_section and \"you may study just the questions that have been marked with an asterisk\" in line.lower():\n",
    "                skip_test_section = False\n",
    "                continue  # Skip this line too\n",
    "            \n",
    "            # If we're in TEST YOUR KNOWLEDGE section, skip everything\n",
    "            if skip_test_section:\n",
    "                continue\n",
    "            \n",
    "            # Skip the instruction boxes about bold text and red boxes, as well as most image footers\n",
    "            if any(phrase in line for phrase in [\n",
    "                \"Within each chapter there are some\",\n",
    "                \"sentences and phrases that are written\",\n",
    "                \"in bold font\",\n",
    "                \"number in a red box\",\n",
    "                \"Civics Test Questions\",\n",
    "                \"For example, the following sentence\",\n",
    "                \"This sentence is from Question\",\n",
    "                \"Photo by\",\n",
    "                \"Courtesy of\",\n",
    "                \"Associate Justice Sonia\",\n",
    "                \"President George W. Bush\",\n",
    "                \"President Obama\"\n",
    "                \n",
    "                ]):\n",
    "                skip_section = True\n",
    "                continue\n",
    "                \n",
    "            # Resume after sections end (look for next chapter or content)\n",
    "            if skip_section and (line.startswith(\"CHAPTER\") or len(line.strip()) > 50):\n",
    "                skip_section = False\n",
    "            \n",
    "            if not skip_section:\n",
    "                # Remove the book title from the line (case insensitive)\n",
    "                original_line = line\n",
    "                line = re.sub(r'ONE NATION, ONE PEOPLE:?\\s*(THE USCIS CIVICS TEST TEXTBOOK)?', '', line, flags=re.IGNORECASE)\n",
    "                \n",
    "                # Remove 1-3 digit numbers that appear right before a period or colon\n",
    "                line = re.sub(r'\\s\\d{1,3}\\.', '.', line)\n",
    "                line = re.sub(r'\\s\\d{1,3}\\:', ':', line)\n",
    "                line = re.sub(r'^\\d{1,3}\\.\\s*', '', line)\n",
    "                line = re.sub(r'^\\d{1,3}\\:\\s*', ':', line)\n",
    "                line = re.sub(r'^\\s*\\d{1,3}\\s*$', '', line)\n",
    "                \n",
    "                # Remove leftover info from the example question boxes in red\n",
    "                line = line.replace('written? 1787  66  ', '')\n",
    "                \n",
    "                # Skip lines that start with CHAPTER\n",
    "                if line.strip().startswith(\"CHAPTER\"):\n",
    "                    continue\n",
    "                \n",
    "                # Only add non-empty lines to filtered_lines\n",
    "                if line.strip():\n",
    "                    filtered_lines.append(line)\n",
    "        \n",
    "        all_text.append('\\n'.join(filtered_lines))"
   ]
  },
  {
   "cell_type": "markdown",
   "id": "276eefaf",
   "metadata": {},
   "source": [
    "### Saving to a dict//json"
   ]
  },
  {
   "cell_type": "code",
   "execution_count": 12,
   "id": "ba7f3633",
   "metadata": {},
   "outputs": [],
   "source": [
    "# convert list to dict with a unique ID\n",
    "data = []\n",
    "for i, text in enumerate(all_text):\n",
    "    entry={\n",
    "        \"page_no\" : i + 4 + 1,\n",
    "        \"uuid\" : str(uuid.uuid4()),\n",
    "        \"text\" : text\n",
    "        }\n",
    "    data.append(entry)\n",
    "\n",
    "# save to json\n",
    "output_filename = '../documents/parsed_civics_guide.json'\n",
    "_ = save_to_json(output_filename,data)"
   ]
  },
  {
   "cell_type": "markdown",
   "id": "df797ef9",
   "metadata": {},
   "source": [
    "### Manual verification: saving to txt file for quick check"
   ]
  },
  {
   "cell_type": "code",
   "execution_count": 13,
   "id": "13aa6807",
   "metadata": {},
   "outputs": [],
   "source": [
    "text_2_save = \"\\n\\n================NEW PAGE================\\n\\n\".join(all_text)"
   ]
  },
  {
   "cell_type": "code",
   "execution_count": 14,
   "id": "2b8c96e8",
   "metadata": {},
   "outputs": [
    {
     "name": "stdout",
     "output_type": "stream",
     "text": [
      "Text saved to ../documents/parsed_civics_guide.txt\n"
     ]
    }
   ],
   "source": [
    "# save parsing into a text file to proofread\n",
    "output_filename = '../documents/parsed_civics_guide.txt'\n",
    "\n",
    "with open(output_filename, 'w', encoding='utf-8') as f:\n",
    "    f.write(text_2_save)\n",
    "\n",
    "print(f\"Text saved to {output_filename}\")"
   ]
  },
  {
   "cell_type": "markdown",
   "id": "4b4cd868",
   "metadata": {},
   "source": [
    "## Qdrant"
   ]
  },
  {
   "cell_type": "markdown",
   "id": "4b9904e5",
   "metadata": {},
   "source": [
    "### Setup of qdrant"
   ]
  },
  {
   "cell_type": "code",
   "execution_count": 15,
   "id": "3a8744ad",
   "metadata": {},
   "outputs": [],
   "source": [
    "from qdrant_client import QdrantClient\n",
    "from qdrant_client.models import Distance, VectorParams, PointStruct\n",
    "from openai import OpenAI\n",
    "import uuid\n",
    "import os\n",
    "from dotenv import load_dotenv"
   ]
  },
  {
   "cell_type": "code",
   "execution_count": 16,
   "id": "e7de89b2",
   "metadata": {},
   "outputs": [],
   "source": [
    "# Load environment variables from .env file\n",
    "load_dotenv()\n",
    "\n",
    "# Initialize clients with API keys from .env\n",
    "openai_client = OpenAI(api_key=os.getenv(\"OPENAI_API_KEY\"))\n",
    "qdrant_client = QdrantClient(\n",
    "    url=os.getenv(\"QDRANT_URL\"),\n",
    "    api_key=os.getenv(\"QDRANT_API_KEY\")\n",
    ")"
   ]
  },
  {
   "cell_type": "markdown",
   "id": "a12cf425",
   "metadata": {},
   "source": [
    "#### dimension setup and justification\n",
    "dimension_size = 1536\n",
    "\n",
    "For our use case, of embedding 34 pages with 4000 characters max, we have so little data that speed/storage doesn't matter.\n",
    "Quality is more important for accurate answers.\n",
    "\n",
    "If we had 100k+ documents, then reducing to 512-768 makes sense."
   ]
  },
  {
   "cell_type": "code",
   "execution_count": 17,
   "id": "3c256792",
   "metadata": {},
   "outputs": [
    {
     "name": "stdout",
     "output_type": "stream",
     "text": [
      "Creating collection 'usa_civics_guide'...\n",
      "Collection 'usa_civics_guide' created successfully!\n"
     ]
    }
   ],
   "source": [
    "# Create collection (text-embedding-3-small has 1536 dimensions)\n",
    "collection_name = \"usa_civics_guide\"\n",
    "dimension_size = 1536\n",
    "model = \"text-embedding-3-small\" # openai small and efficient model... costs so little its a joke\n",
    "\n",
    "# Check if collection already exists\n",
    "try:\n",
    "    qdrant_client.get_collection(collection_name=collection_name)\n",
    "    print(f\"Collection '{collection_name}' already exists. Skipping creation.\")\n",
    "except Exception:\n",
    "    # Collection doesn't exist, create it\n",
    "    print(f\"Creating collection '{collection_name}'...\")\n",
    "    qdrant_client.create_collection(\n",
    "        collection_name=collection_name,\n",
    "        vectors_config=VectorParams(size=dimension_size, distance=Distance.COSINE),\n",
    "    )\n",
    "    print(f\"Collection '{collection_name}' created successfully!\")"
   ]
  },
  {
   "cell_type": "code",
   "execution_count": 18,
   "id": "fe4386ee",
   "metadata": {},
   "outputs": [],
   "source": [
    "# Embed and upload\n",
    "points = []\n",
    "for page_num, page_text in enumerate(all_text):\n",
    "    if page_text.strip():\n",
    "        # Get embedding from OpenAI\n",
    "        response = openai_client.embeddings.create(\n",
    "            model=model,\n",
    "            input=page_text\n",
    "        )\n",
    "        embedding = response.data[0].embedding\n",
    "        \n",
    "        points.append(PointStruct(\n",
    "            id=str(uuid.uuid4()),\n",
    "            vector=embedding,\n",
    "            payload={\n",
    "                \"page_number\": page_num + 5,\n",
    "                \"text\": page_text,\n",
    "                \"source\": \"USCIS Civics Textbook\"\n",
    "            }\n",
    "        ))"
   ]
  },
  {
   "cell_type": "code",
   "execution_count": 19,
   "id": "02ddce68",
   "metadata": {},
   "outputs": [
    {
     "name": "stdout",
     "output_type": "stream",
     "text": [
      "Uploaded 34 pages!\n"
     ]
    }
   ],
   "source": [
    "# Upload all at once\n",
    "qdrant_client.upsert(collection_name=collection_name, points=points)\n",
    "print(f\"Uploaded {len(points)} pages!\")"
   ]
  }
 ],
 "metadata": {
  "kernelspec": {
   "display_name": ".venv",
   "language": "python",
   "name": "python3"
  },
  "language_info": {
   "codemirror_mode": {
    "name": "ipython",
    "version": 3
   },
   "file_extension": ".py",
   "mimetype": "text/x-python",
   "name": "python",
   "nbconvert_exporter": "python",
   "pygments_lexer": "ipython3",
   "version": "3.13.5"
  }
 },
 "nbformat": 4,
 "nbformat_minor": 5
}
