{
 "cells": [
  {
   "cell_type": "markdown",
   "id": "db0da12e",
   "metadata": {},
   "source": [
    "# Evaluating retrieval Quality"
   ]
  },
  {
   "cell_type": "markdown",
   "id": "cfacc709",
   "metadata": {},
   "source": [
    "## Creating syntethic ground truth"
   ]
  },
  {
   "cell_type": "code",
   "execution_count": null,
   "id": "6c48ad40",
   "metadata": {},
   "outputs": [],
   "source": [
    "import sys\n",
    "sys.path.append('..')\n",
    "\n",
    "from utils import load_from_json, save_to_json, llm"
   ]
  },
  {
   "cell_type": "code",
   "execution_count": 40,
   "id": "de39e612",
   "metadata": {},
   "outputs": [
    {
     "name": "stdout",
     "output_type": "stream",
     "text": [
      "Data loaded from ../documents/parsed_civics_guide.json\n"
     ]
    }
   ],
   "source": [
    "# reading in all the parsed data from the civics guide\n",
    "input_file = '../documents/parsed_civics_guide.json'\n",
    "\n",
    "dataset = load_from_json(input_file)"
   ]
  },
  {
   "cell_type": "code",
   "execution_count": 41,
   "id": "77e0a569",
   "metadata": {},
   "outputs": [],
   "source": [
    "user_prompt = \"\"\"\n",
    "Based on the *text* provided below, write 5 realistic queries you might ask to find information that is clearly answerable by the text. \n",
    "\n",
    "Guidelines:\n",
    "- Each query should be natural, specific, and complete.\n",
    "- Avoid copying exact phrases or sentences from the text whenever possible.\n",
    "- Do not make up information that is not supported by the text.\n",
    "- Make the queries diverse (e.g., mix \"what\", \"who\", \"when\", \"how\", etc.).\n",
    "- Keep queries concise but clear enough to retrieve the right passage.\n",
    "\n",
    "text: {text}\n",
    "\n",
    "Output valid JSON only (no code blocks, no extra text):\n",
    "\n",
    "[\"query1\", \"query2\", \"query3\", \"query4\", \"query5\"]\n",
    "\"\"\".strip()"
   ]
  },
  {
   "cell_type": "code",
   "execution_count": 42,
   "id": "09cc7f69",
   "metadata": {},
   "outputs": [],
   "source": [
    "def generate_questions(data):\n",
    "    \"This function generates synthetic questions to evaluate later.\"\n",
    "    #\n",
    "    text = data['text']\n",
    "    d_user_prompt = user_prompt.format(text=text)\n",
    "    \n",
    "    # call llm\n",
    "    return llm(system_prompt=\"You are a U.S. immigrant preparing for the civics test.\",user_prompt=d_user_prompt,model=model)\n"
   ]
  },
  {
   "cell_type": "code",
   "execution_count": 43,
   "id": "d4c8a668",
   "metadata": {},
   "outputs": [],
   "source": [
    "# Set model\n",
    "model = 'gpt-4o-mini'\n",
    "\n",
    "# Initialize results as a list\n",
    "golden_questions = []\n",
    "\n",
    "for data in dataset:\n",
    "    # Get id \n",
    "    id = data['uuid']\n",
    "    # Generate set of questions\n",
    "    questions = generate_questions(data)\n",
    "    \n",
    "    # Add each question with its UUID\n",
    "    for question in questions['queries']:\n",
    "        golden_questions.append({\n",
    "            'uuid': id,\n",
    "            'question': question\n",
    "        })"
   ]
  },
  {
   "cell_type": "code",
   "execution_count": 44,
   "id": "a5528315",
   "metadata": {},
   "outputs": [
    {
     "name": "stdout",
     "output_type": "stream",
     "text": [
      "Data saved to ../documents/golden_data_questions.json\n"
     ]
    }
   ],
   "source": [
    "# save the golden data as a json\n",
    "output_file = '../documents/golden_data_questions.json'\n",
    "_ = save_to_json(output_file,golden_questions)"
   ]
  },
  {
   "cell_type": "markdown",
   "id": "e376e319",
   "metadata": {},
   "source": [
    "## Evaluating retrieval"
   ]
  },
  {
   "cell_type": "markdown",
   "id": "e3e939b2",
   "metadata": {},
   "source": [
    "### Hit rate"
   ]
  },
  {
   "cell_type": "code",
   "execution_count": null,
   "id": "d06ba1ac",
   "metadata": {},
   "outputs": [],
   "source": []
  },
  {
   "cell_type": "markdown",
   "id": "335f033a",
   "metadata": {},
   "source": []
  }
 ],
 "metadata": {
  "kernelspec": {
   "display_name": ".venv",
   "language": "python",
   "name": "python3"
  },
  "language_info": {
   "codemirror_mode": {
    "name": "ipython",
    "version": 3
   },
   "file_extension": ".py",
   "mimetype": "text/x-python",
   "name": "python",
   "nbconvert_exporter": "python",
   "pygments_lexer": "ipython3",
   "version": "3.13.5"
  }
 },
 "nbformat": 4,
 "nbformat_minor": 5
}
