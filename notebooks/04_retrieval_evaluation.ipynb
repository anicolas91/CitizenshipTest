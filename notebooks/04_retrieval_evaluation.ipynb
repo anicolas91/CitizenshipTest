{
 "cells": [
  {
   "cell_type": "markdown",
   "id": "db0da12e",
   "metadata": {},
   "source": [
    "# Evaluating retrieval Quality"
   ]
  },
  {
   "cell_type": "markdown",
   "id": "cfacc709",
   "metadata": {},
   "source": [
    "## Creating syntethic ground truth"
   ]
  },
  {
   "cell_type": "code",
   "execution_count": 1,
   "id": "6c48ad40",
   "metadata": {},
   "outputs": [],
   "source": [
    "import sys\n",
    "sys.path.append('..')\n",
    "\n",
    "from utils import load_from_json, save_to_json, llm"
   ]
  },
  {
   "cell_type": "code",
   "execution_count": null,
   "id": "de39e612",
   "metadata": {},
   "outputs": [],
   "source": [
    "# reading in all the parsed data from the civics guide\n",
    "input_file = '../documents/parsed_civics_guide.json'\n",
    "\n",
    "dataset = load_from_json(input_file)"
   ]
  },
  {
   "cell_type": "code",
   "execution_count": null,
   "id": "77e0a569",
   "metadata": {},
   "outputs": [],
   "source": [
    "user_prompt = \"\"\"\n",
    "Based on the *text* provided below, write 5 realistic queries you might ask to find information that is clearly answerable by the text. \n",
    "\n",
    "Guidelines:\n",
    "- Each query should be natural, specific, and complete.\n",
    "- Avoid copying exact phrases or sentences from the text whenever possible.\n",
    "- Do not make up information that is not supported by the text.\n",
    "- Make the queries diverse (e.g., mix \"what\", \"who\", \"when\", \"how\", etc.).\n",
    "- Keep queries concise but clear enough to retrieve the right passage.\n",
    "\n",
    "text: {text}\n",
    "\n",
    "Output valid JSON only (no code blocks, no extra text):\n",
    "\n",
    "[\"query1\", \"query2\", \"query3\", \"query4\", \"query5\"]\n",
    "\"\"\".strip()"
   ]
  },
  {
   "cell_type": "code",
   "execution_count": null,
   "id": "09cc7f69",
   "metadata": {},
   "outputs": [],
   "source": [
    "def generate_questions(data,model):\n",
    "    \"This function generates synthetic questions to evaluate later.\"\n",
    "    #\n",
    "    text = data['text']\n",
    "    d_user_prompt = user_prompt.format(text=text)\n",
    "    \n",
    "    # call llm\n",
    "    return llm(system_prompt=\"You are a U.S. immigrant preparing for the civics test.\",user_prompt=d_user_prompt,model=model)\n"
   ]
  },
  {
   "cell_type": "code",
   "execution_count": null,
   "id": "d4c8a668",
   "metadata": {},
   "outputs": [],
   "source": [
    "# Set model\n",
    "model = 'gpt-4o-mini'\n",
    "\n",
    "# Initialize results as a list\n",
    "golden_questions = []\n",
    "\n",
    "for data in dataset:\n",
    "    # Get id and page no (unique identifiers)\n",
    "    id = data['uuid']\n",
    "    page = data['page_no']\n",
    "    # Generate set of questions\n",
    "    questions = generate_questions(data,model)\n",
    "    \n",
    "    # Add each question with its UUID\n",
    "    for question in questions['queries']:\n",
    "        golden_questions.append({\n",
    "            'uuid': id,\n",
    "            'page': page,\n",
    "            'question': question\n",
    "        })"
   ]
  },
  {
   "cell_type": "code",
   "execution_count": null,
   "id": "a5528315",
   "metadata": {},
   "outputs": [],
   "source": [
    "# save the golden data as a json\n",
    "output_file = '../documents/golden_data_questions.json'\n",
    "_ = save_to_json(output_file,golden_questions)"
   ]
  },
  {
   "cell_type": "markdown",
   "id": "e376e319",
   "metadata": {},
   "source": [
    "## Evaluating retrieval"
   ]
  },
  {
   "cell_type": "code",
   "execution_count": 10,
   "id": "0a90ec11",
   "metadata": {},
   "outputs": [
    {
     "name": "stdout",
     "output_type": "stream",
     "text": [
      "Data loaded from ../documents/golden_data_questions.json\n"
     ]
    }
   ],
   "source": [
    "## load from json if you dont want to rerun everything above\n",
    "output_file = '../documents/golden_data_questions.json'\n",
    "golden_questions = load_from_json(output_file)"
   ]
  },
  {
   "cell_type": "markdown",
   "id": "e3e939b2",
   "metadata": {},
   "source": [
    "### Main Relevance matrix"
   ]
  },
  {
   "cell_type": "code",
   "execution_count": 11,
   "id": "d06ba1ac",
   "metadata": {},
   "outputs": [],
   "source": [
    "import re\n",
    "import json\n",
    "from tqdm import tqdm\n",
    "from utils import get_context"
   ]
  },
  {
   "cell_type": "code",
   "execution_count": 12,
   "id": "96f6eb5a",
   "metadata": {},
   "outputs": [],
   "source": [
    "def get_relevance_matrix(\n",
    "    golden_questions,\n",
    "    limit=2,\n",
    "    threshold=0.5,\n",
    "    expansion=False,\n",
    "    expansion_file=\"../documents/expansion_terms.json\"\n",
    "):\n",
    "    \"\"\"\n",
    "    Calculate the relevance matrix used later to calculate hit rate and mrr.\n",
    "    \n",
    "    Args:\n",
    "        golden_questions: List of golden question dictionaries\n",
    "        limit: Number of documents to retrieve\n",
    "        threshold: Score threshold for retrieval\n",
    "        expansion: Whether to use query expansion\n",
    "        expansion_file: Path to expansion terms JSON file\n",
    "    \n",
    "    Returns:\n",
    "        List of relevance vectors\n",
    "    \"\"\"\n",
    "    # Load expansion terms ONCE if needed\n",
    "    expansion_terms = None\n",
    "    if expansion:\n",
    "        try:\n",
    "            expansion_terms = load_from_json(expansion_file)\n",
    "        except (FileNotFoundError, json.JSONDecodeError) as e:\n",
    "            print(f\"Warning: Could not load expansion terms: {e}\")\n",
    "            expansion_terms = None\n",
    "    \n",
    "    relevance_total = []\n",
    "    for golden_question in golden_questions:\n",
    "        # get question and page number \n",
    "        page = golden_question['page']\n",
    "        question = golden_question['question']\n",
    "    \n",
    "        # get results from qdrant\n",
    "        context = get_context(\n",
    "            question=question,\n",
    "            limit=limit,\n",
    "            score_threshold=threshold,\n",
    "            query_expansion=expansion,\n",
    "            expansion_terms=expansion_terms  # Pass the pre-loaded dict\n",
    "        )\n",
    "\n",
    "        # get the page numbers that matched\n",
    "        retrieved_pages = [int(num) for num in re.findall(r'Page (\\d+):', context)]\n",
    "\n",
    "        # get the relevance vector\n",
    "        relevance = [p == page for p in retrieved_pages]\n",
    "        relevance_total.append(relevance)\n",
    "\n",
    "    return relevance_total"
   ]
  },
  {
   "cell_type": "markdown",
   "id": "a5f9b51a",
   "metadata": {},
   "source": [
    "### Hit rate and MRR functions"
   ]
  },
  {
   "cell_type": "code",
   "execution_count": 13,
   "id": "1d0c2512",
   "metadata": {},
   "outputs": [],
   "source": [
    "def hit_rate(relevance_total):\n",
    "    \"\"\"\n",
    "    Calculate hit rate: percentage of queries where the correct document appears.\n",
    "    \n",
    "    Args:\n",
    "        relevance_total: List of relevance lists, where each inner list contains\n",
    "                        True/False for whether each retrieved document is relevant\n",
    "    \n",
    "    Returns:\n",
    "        Hit rate as a float between 0 and 1\n",
    "    \n",
    "    Example:\n",
    "        >>> relevance = [[True, False], [False, False], [False, True]]\n",
    "        >>> hit_rate(relevance)\n",
    "        0.6667  # 2 out of 3 queries had a hit\n",
    "    \"\"\"\n",
    "    cnt = 0\n",
    "    \n",
    "    for line in relevance_total:\n",
    "        if True in line:\n",
    "            cnt += 1\n",
    "    \n",
    "    return cnt / len(relevance_total) if len(relevance_total) > 0 else 0.0\n",
    "\n",
    "\n",
    "def mrr(relevance_total):\n",
    "    \"\"\"\n",
    "    Calculate Mean Reciprocal Rank (MRR).\n",
    "    \n",
    "    Args:\n",
    "        relevance_total: List of relevance lists, where each inner list contains\n",
    "                        True/False for whether each retrieved document is relevant\n",
    "    \n",
    "    Returns:\n",
    "        MRR as a float between 0 and 1\n",
    "    \n",
    "    Example:\n",
    "        >>> relevance = [[True, False], [False, True], [False, False]]\n",
    "        >>> mrr(relevance)\n",
    "        0.5  # (1/1 + 1/2 + 0) / 3 = 0.5\n",
    "    \"\"\"\n",
    "    total_score = 0.0\n",
    "    \n",
    "    for line in relevance_total:\n",
    "        for rank in range(len(line)):\n",
    "            if line[rank] == True:\n",
    "                total_score += 1 / (rank + 1)\n",
    "                break  # Only count the FIRST True (this is optional but typical)\n",
    "    \n",
    "    return total_score / len(relevance_total) if len(relevance_total) > 0 else 0.0"
   ]
  },
  {
   "cell_type": "markdown",
   "id": "335f033a",
   "metadata": {},
   "source": [
    "### Evaluation strategy"
   ]
  },
  {
   "cell_type": "code",
   "execution_count": 14,
   "id": "4cb62bd7",
   "metadata": {},
   "outputs": [],
   "source": [
    "def evaluate_strategy(golden_questions, strategy):\n",
    "    \"\"\"\n",
    "    Evaluate a retrieval strategy using hit rate and MRR metrics.\n",
    "    \"\"\"\n",
    "    # Validate inputs\n",
    "    if not golden_questions:\n",
    "        raise ValueError(\"golden_questions cannot be empty\")\n",
    "    \n",
    "    # get the parameters from the strategy with defaults\n",
    "    limit = strategy.get(\"limit\", 2)\n",
    "    threshold = strategy.get(\"threshold\", 0.5)\n",
    "    expansion = strategy.get(\"expansion\", False)\n",
    "    \n",
    "    # Optional: validate parameter ranges\n",
    "    if limit <= 0:\n",
    "        raise ValueError(f\"limit must be positive, got {limit}\")\n",
    "    if not 0 <= threshold <= 1:\n",
    "        raise ValueError(f\"threshold must be between 0 and 1, got {threshold}\")\n",
    "\n",
    "    # get main relevance matrix\n",
    "    relevance_matrix = get_relevance_matrix(golden_questions, limit, threshold, expansion)\n",
    "\n",
    "    # calculate hit rate\n",
    "    metric_hit_rate = hit_rate(relevance_matrix)\n",
    "\n",
    "    # calculate mrr\n",
    "    metric_mrr = mrr(relevance_matrix)\n",
    "\n",
    "    return {\"hit_rate\": metric_hit_rate, \"mrr\": metric_mrr}"
   ]
  },
  {
   "cell_type": "code",
   "execution_count": 15,
   "id": "36bb2193",
   "metadata": {},
   "outputs": [],
   "source": [
    "# create a list of different strategies\n",
    "import itertools\n",
    "\n",
    "limits = [2, 3, 4]\n",
    "thresholds = [0.3, 0.5, 0.7]\n",
    "expansions = [False, True]\n",
    "\n",
    "strategies = {}\n",
    "\n",
    "for limit, threshold, expansion in itertools.product(limits, thresholds, expansions):\n",
    "    # Create a readable strategy name\n",
    "    exp_suffix = \"_exp\" if expansion else \"\"\n",
    "    strategy_name = f\"L{limit}_T{threshold}{exp_suffix}\"\n",
    "    \n",
    "    strategies[strategy_name] = {\n",
    "        \"limit\": limit,\n",
    "        \"threshold\": threshold,\n",
    "        \"expansion\": expansion\n",
    "        }"
   ]
  },
  {
   "cell_type": "code",
   "execution_count": 16,
   "id": "72817f32",
   "metadata": {},
   "outputs": [
    {
     "data": {
      "text/plain": [
       "{'L2_T0.3': {'limit': 2, 'threshold': 0.3, 'expansion': False},\n",
       " 'L2_T0.3_exp': {'limit': 2, 'threshold': 0.3, 'expansion': True},\n",
       " 'L2_T0.5': {'limit': 2, 'threshold': 0.5, 'expansion': False},\n",
       " 'L2_T0.5_exp': {'limit': 2, 'threshold': 0.5, 'expansion': True},\n",
       " 'L2_T0.7': {'limit': 2, 'threshold': 0.7, 'expansion': False},\n",
       " 'L2_T0.7_exp': {'limit': 2, 'threshold': 0.7, 'expansion': True},\n",
       " 'L3_T0.3': {'limit': 3, 'threshold': 0.3, 'expansion': False},\n",
       " 'L3_T0.3_exp': {'limit': 3, 'threshold': 0.3, 'expansion': True},\n",
       " 'L3_T0.5': {'limit': 3, 'threshold': 0.5, 'expansion': False},\n",
       " 'L3_T0.5_exp': {'limit': 3, 'threshold': 0.5, 'expansion': True},\n",
       " 'L3_T0.7': {'limit': 3, 'threshold': 0.7, 'expansion': False},\n",
       " 'L3_T0.7_exp': {'limit': 3, 'threshold': 0.7, 'expansion': True},\n",
       " 'L4_T0.3': {'limit': 4, 'threshold': 0.3, 'expansion': False},\n",
       " 'L4_T0.3_exp': {'limit': 4, 'threshold': 0.3, 'expansion': True},\n",
       " 'L4_T0.5': {'limit': 4, 'threshold': 0.5, 'expansion': False},\n",
       " 'L4_T0.5_exp': {'limit': 4, 'threshold': 0.5, 'expansion': True},\n",
       " 'L4_T0.7': {'limit': 4, 'threshold': 0.7, 'expansion': False},\n",
       " 'L4_T0.7_exp': {'limit': 4, 'threshold': 0.7, 'expansion': True}}"
      ]
     },
     "execution_count": 16,
     "metadata": {},
     "output_type": "execute_result"
    }
   ],
   "source": [
    "strategies"
   ]
  },
  {
   "cell_type": "code",
   "execution_count": 17,
   "id": "863f16d7",
   "metadata": {},
   "outputs": [
    {
     "name": "stderr",
     "output_type": "stream",
     "text": [
      "Testing strategies:   0%|          | 0/18 [00:00<?, ?it/s]"
     ]
    },
    {
     "name": "stdout",
     "output_type": "stream",
     "text": [
      "Evaluating: L2_T0.3\n"
     ]
    },
    {
     "name": "stderr",
     "output_type": "stream",
     "text": [
      "Testing strategies:   6%|▌         | 1/18 [00:44<12:34, 44.38s/it]"
     ]
    },
    {
     "name": "stdout",
     "output_type": "stream",
     "text": [
      "Evaluating: L2_T0.3_exp\n",
      "Data loaded from ../documents/expansion_terms.json\n"
     ]
    },
    {
     "name": "stderr",
     "output_type": "stream",
     "text": [
      "Testing strategies:  11%|█         | 2/18 [01:28<11:49, 44.32s/it]"
     ]
    },
    {
     "name": "stdout",
     "output_type": "stream",
     "text": [
      "Evaluating: L2_T0.5\n"
     ]
    },
    {
     "name": "stderr",
     "output_type": "stream",
     "text": [
      "Testing strategies:  17%|█▋        | 3/18 [02:13<11:08, 44.59s/it]"
     ]
    },
    {
     "name": "stdout",
     "output_type": "stream",
     "text": [
      "Evaluating: L2_T0.5_exp\n",
      "Data loaded from ../documents/expansion_terms.json\n"
     ]
    },
    {
     "name": "stderr",
     "output_type": "stream",
     "text": [
      "Testing strategies:  22%|██▏       | 4/18 [02:58<10:25, 44.70s/it]"
     ]
    },
    {
     "name": "stdout",
     "output_type": "stream",
     "text": [
      "Evaluating: L2_T0.7\n"
     ]
    },
    {
     "name": "stderr",
     "output_type": "stream",
     "text": [
      "Testing strategies:  28%|██▊       | 5/18 [03:43<09:43, 44.86s/it]"
     ]
    },
    {
     "name": "stdout",
     "output_type": "stream",
     "text": [
      "Evaluating: L2_T0.7_exp\n",
      "Data loaded from ../documents/expansion_terms.json\n"
     ]
    },
    {
     "name": "stderr",
     "output_type": "stream",
     "text": [
      "Testing strategies:  33%|███▎      | 6/18 [04:29<09:00, 45.06s/it]"
     ]
    },
    {
     "name": "stdout",
     "output_type": "stream",
     "text": [
      "Evaluating: L3_T0.3\n"
     ]
    },
    {
     "name": "stderr",
     "output_type": "stream",
     "text": [
      "Testing strategies:  39%|███▉      | 7/18 [05:13<08:13, 44.90s/it]"
     ]
    },
    {
     "name": "stdout",
     "output_type": "stream",
     "text": [
      "Evaluating: L3_T0.3_exp\n",
      "Data loaded from ../documents/expansion_terms.json\n"
     ]
    },
    {
     "name": "stderr",
     "output_type": "stream",
     "text": [
      "Testing strategies:  44%|████▍     | 8/18 [05:56<07:23, 44.34s/it]"
     ]
    },
    {
     "name": "stdout",
     "output_type": "stream",
     "text": [
      "Evaluating: L3_T0.5\n"
     ]
    },
    {
     "name": "stderr",
     "output_type": "stream",
     "text": [
      "Testing strategies:  50%|█████     | 9/18 [06:42<06:41, 44.64s/it]"
     ]
    },
    {
     "name": "stdout",
     "output_type": "stream",
     "text": [
      "Evaluating: L3_T0.5_exp\n",
      "Data loaded from ../documents/expansion_terms.json\n"
     ]
    },
    {
     "name": "stderr",
     "output_type": "stream",
     "text": [
      "Testing strategies:  56%|█████▌    | 10/18 [07:24<05:52, 44.02s/it]"
     ]
    },
    {
     "name": "stdout",
     "output_type": "stream",
     "text": [
      "Evaluating: L3_T0.7\n"
     ]
    },
    {
     "name": "stderr",
     "output_type": "stream",
     "text": [
      "Testing strategies:  61%|██████    | 11/18 [08:19<05:31, 47.40s/it]"
     ]
    },
    {
     "name": "stdout",
     "output_type": "stream",
     "text": [
      "Evaluating: L3_T0.7_exp\n",
      "Data loaded from ../documents/expansion_terms.json\n"
     ]
    },
    {
     "name": "stderr",
     "output_type": "stream",
     "text": [
      "Testing strategies:  67%|██████▋   | 12/18 [09:03<04:38, 46.45s/it]"
     ]
    },
    {
     "name": "stdout",
     "output_type": "stream",
     "text": [
      "Evaluating: L4_T0.3\n"
     ]
    },
    {
     "name": "stderr",
     "output_type": "stream",
     "text": [
      "Testing strategies:  72%|███████▏  | 13/18 [09:52<03:55, 47.04s/it]"
     ]
    },
    {
     "name": "stdout",
     "output_type": "stream",
     "text": [
      "Evaluating: L4_T0.3_exp\n",
      "Data loaded from ../documents/expansion_terms.json\n"
     ]
    },
    {
     "name": "stderr",
     "output_type": "stream",
     "text": [
      "Testing strategies:  78%|███████▊  | 14/18 [10:48<03:18, 49.67s/it]"
     ]
    },
    {
     "name": "stdout",
     "output_type": "stream",
     "text": [
      "Evaluating: L4_T0.5\n"
     ]
    },
    {
     "name": "stderr",
     "output_type": "stream",
     "text": [
      "Testing strategies:  83%|████████▎ | 15/18 [11:32<02:24, 48.21s/it]"
     ]
    },
    {
     "name": "stdout",
     "output_type": "stream",
     "text": [
      "Evaluating: L4_T0.5_exp\n",
      "Data loaded from ../documents/expansion_terms.json\n"
     ]
    },
    {
     "name": "stderr",
     "output_type": "stream",
     "text": [
      "Testing strategies:  89%|████████▉ | 16/18 [12:17<01:34, 47.18s/it]"
     ]
    },
    {
     "name": "stdout",
     "output_type": "stream",
     "text": [
      "Evaluating: L4_T0.7\n"
     ]
    },
    {
     "name": "stderr",
     "output_type": "stream",
     "text": [
      "Testing strategies:  94%|█████████▍| 17/18 [13:02<00:46, 46.49s/it]"
     ]
    },
    {
     "name": "stdout",
     "output_type": "stream",
     "text": [
      "Evaluating: L4_T0.7_exp\n",
      "Data loaded from ../documents/expansion_terms.json\n"
     ]
    },
    {
     "name": "stderr",
     "output_type": "stream",
     "text": [
      "Testing strategies: 100%|██████████| 18/18 [13:47<00:00, 45.98s/it]\n"
     ]
    }
   ],
   "source": [
    "# literally evaluate all strategies and calculate mrr/hit rate for each\n",
    "results = []\n",
    "    \n",
    "for strategy_name, strategy_config in tqdm(strategies.items(), desc=\"Testing strategies\"):\n",
    "    print(f\"Evaluating: {strategy_name}\")\n",
    "    \n",
    "    # Evaluate the strategy\n",
    "    metrics = evaluate_strategy(golden_questions, strategy_config)\n",
    "    \n",
    "    # Combine strategy config with metrics\n",
    "    result = {\n",
    "        \"strategy_name\": strategy_name,\n",
    "        \"limit\": strategy_config[\"limit\"],\n",
    "        \"threshold\": strategy_config[\"threshold\"],\n",
    "        \"expansion\": strategy_config[\"expansion\"],\n",
    "        \"hit_rate\": metrics[\"hit_rate\"],\n",
    "        \"mrr\": metrics[\"mrr\"]\n",
    "    }\n",
    "    \n",
    "    results.append(result)"
   ]
  },
  {
   "cell_type": "code",
   "execution_count": 18,
   "id": "c4734159",
   "metadata": {},
   "outputs": [
    {
     "name": "stdout",
     "output_type": "stream",
     "text": [
      "\n",
      "================================================================================\n",
      "BEST STRATEGY BY HIT RATE\n",
      "================================================================================\n",
      "Strategy: L4_T0.3\n",
      "  Limit: 4\n",
      "  Threshold: 0.3\n",
      "  Expansion: False\n",
      "  Hit Rate: 0.9647\n",
      "  MRR: 0.8172\n",
      "\n",
      "================================================================================\n",
      "BEST STRATEGY BY MRR\n",
      "================================================================================\n",
      "Strategy: L4_T0.3\n",
      "  Limit: 4\n",
      "  Threshold: 0.3\n",
      "  Expansion: False\n",
      "  Hit Rate: 0.9647\n",
      "  MRR: 0.8172\n",
      "\n",
      "================================================================================\n",
      "BEST STRATEGY BY COMBINED SCORE\n",
      "================================================================================\n",
      "Strategy: L4_T0.3\n",
      "  Limit: 4\n",
      "  Threshold: 0.3\n",
      "  Expansion: False\n",
      "  Hit Rate: 0.9647\n",
      "  MRR: 0.8172\n",
      "  Combined Score: 0.8909\n"
     ]
    }
   ],
   "source": [
    "# Find best hit rate\n",
    "best_hit_rate = max(results, key=lambda x: x['hit_rate'])\n",
    "\n",
    "# Find best MRR\n",
    "best_mrr = max(results, key=lambda x: x['mrr'])\n",
    "\n",
    "# Find best combined (average of hit_rate and mrr)\n",
    "best_combined = max(results, key=lambda x: (x['hit_rate'] + x['mrr']) / 2)\n",
    "combined_score = (best_combined['hit_rate'] + best_combined['mrr']) / 2\n",
    "\n",
    "# print out result\n",
    "print(\"\\n\" + \"=\"*80)\n",
    "print(\"BEST STRATEGY BY HIT RATE\")\n",
    "print(\"=\"*80)\n",
    "print(f\"Strategy: {best_hit_rate['strategy_name']}\")\n",
    "print(f\"  Limit: {best_hit_rate['limit']}\")\n",
    "print(f\"  Threshold: {best_hit_rate['threshold']}\")\n",
    "print(f\"  Expansion: {best_hit_rate['expansion']}\")\n",
    "print(f\"  Hit Rate: {best_hit_rate['hit_rate']:.4f}\")\n",
    "print(f\"  MRR: {best_hit_rate['mrr']:.4f}\")\n",
    "\n",
    "print(\"\\n\" + \"=\"*80)\n",
    "print(\"BEST STRATEGY BY MRR\")\n",
    "print(\"=\"*80)\n",
    "print(f\"Strategy: {best_mrr['strategy_name']}\")\n",
    "print(f\"  Limit: {best_mrr['limit']}\")\n",
    "print(f\"  Threshold: {best_mrr['threshold']}\")\n",
    "print(f\"  Expansion: {best_mrr['expansion']}\")\n",
    "print(f\"  Hit Rate: {best_mrr['hit_rate']:.4f}\")\n",
    "print(f\"  MRR: {best_mrr['mrr']:.4f}\")\n",
    "\n",
    "print(\"\\n\" + \"=\"*80)\n",
    "print(\"BEST STRATEGY BY COMBINED SCORE\")\n",
    "print(\"=\"*80)\n",
    "print(f\"Strategy: {best_combined['strategy_name']}\")\n",
    "print(f\"  Limit: {best_combined['limit']}\")\n",
    "print(f\"  Threshold: {best_combined['threshold']}\")\n",
    "print(f\"  Expansion: {best_combined['expansion']}\")\n",
    "print(f\"  Hit Rate: {best_combined['hit_rate']:.4f}\")\n",
    "print(f\"  MRR: {best_combined['mrr']:.4f}\")\n",
    "print(f\"  Combined Score: {combined_score:.4f}\")"
   ]
  }
 ],
 "metadata": {
  "kernelspec": {
   "display_name": ".venv",
   "language": "python",
   "name": "python3"
  },
  "language_info": {
   "codemirror_mode": {
    "name": "ipython",
    "version": 3
   },
   "file_extension": ".py",
   "mimetype": "text/x-python",
   "name": "python",
   "nbconvert_exporter": "python",
   "pygments_lexer": "ipython3",
   "version": "3.13.5"
  }
 },
 "nbformat": 4,
 "nbformat_minor": 5
}
