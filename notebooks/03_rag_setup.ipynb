{
 "cells": [
  {
   "cell_type": "markdown",
   "id": "ca87e03c",
   "metadata": {},
   "source": [
    "# RAG\n",
    "This notebook is to setup the logic to set up the prompt based on a random input QnA, and use RAG to provide context."
   ]
  },
  {
   "cell_type": "markdown",
   "id": "fe4b9a4b",
   "metadata": {},
   "source": [
    "## Context setup"
   ]
  },
  {
   "cell_type": "code",
   "execution_count": 121,
   "id": "019a91df",
   "metadata": {},
   "outputs": [],
   "source": [
    "import os\n",
    "import json\n",
    "import random\n",
    "from openai import OpenAI\n",
    "from dotenv import load_dotenv\n",
    "from qdrant_client import QdrantClient"
   ]
  },
  {
   "cell_type": "code",
   "execution_count": 122,
   "id": "f92b30ba",
   "metadata": {},
   "outputs": [],
   "source": [
    "# Load environment variables from .env file\n",
    "load_dotenv()\n",
    "\n",
    "# Initialize clients with API keys from .env\n",
    "openai_client = OpenAI(api_key=os.getenv(\"OPENAI_API_KEY\"))\n",
    "qdrant_client = QdrantClient(\n",
    "    url=os.getenv(\"QDRANT_URL\"),\n",
    "    api_key=os.getenv(\"QDRANT_API_KEY\")\n",
    ")"
   ]
  },
  {
   "cell_type": "code",
   "execution_count": 123,
   "id": "b6733e6d",
   "metadata": {},
   "outputs": [],
   "source": [
    "# set up a question\n",
    "question = 'who is the president of the united states?'"
   ]
  },
  {
   "cell_type": "code",
   "execution_count": 124,
   "id": "8b43e986",
   "metadata": {},
   "outputs": [],
   "source": [
    "def get_context(question:str ,embedding_model:str =\"text-embedding-3-small\",limit:int=2) -> str:\n",
    "    # embed the question\n",
    "    embedding_response = openai_client.embeddings.create(\n",
    "        model=embedding_model,\n",
    "        input=question\n",
    "    )\n",
    "    question_embedding = embedding_response.data[0].embedding\n",
    "\n",
    "    # Search Qdrant for relevant pages\n",
    "    search_results = qdrant_client.query_points(\n",
    "        collection_name=\"usa_civics_guide\",\n",
    "        query=question_embedding,\n",
    "        limit=limit\n",
    "    )\n",
    "\n",
    "    # Build context from search results\n",
    "    context = \"\\n\\n---\\n\\n\".join([\n",
    "        f\"Page {result.payload['page_number']}:\\n{result.payload['text']}\"\n",
    "        for result in search_results.points\n",
    "    ])\n",
    "\n",
    "    return context"
   ]
  },
  {
   "cell_type": "code",
   "execution_count": 125,
   "id": "9ee33bac",
   "metadata": {},
   "outputs": [
    {
     "name": "stdout",
     "output_type": "stream",
     "text": [
      "Page 13:\n",
      "THE COMMANDER IN CHIEF \n",
      "The President of the United States is the \n",
      "Commander in Chief of the military. This \n",
      "means that the President is in charge of everyone \n",
      "serving in U.S. military. Another term for the U.S. \n",
      "military is the U.S. Armed Forces.  \n",
      "In the United States, serving in the U.S. Armed \n",
      "Forces is voluntary. Today there are over 2 million people serving in the U.S. Armed Forces.  For more \n",
      "information about the U.S. Armed Forces, please visit: \n",
      "U.S. Department of Defense at www.defense.gov .There are six branches of the U.S. Armed Forces:\n",
      "VOTING FOR PRESIDENT\n",
      "U.S. citizens vote for President in November 27, \n",
      "and the President is elected for four years. \n",
      "A person can only be elected to be President two  \n",
      "times. This means a person can get elected for four \n",
      "years, and then get reelected for four more years. \n",
      "The Constitution says that in order to get elected \n",
      "President, a person must be 35 years old or older and was a U.S. citizen at birth. \n",
      "When a person runs for President of the United States \n",
      "they are nominated by a political party. Today, there  \n",
      "are two major political parties in the United States. \n",
      "One party is called the Democratic Party, and the other party is called the Republican Party \n",
      "To find the name of the President of the United  States now, please visit: whitehouse.gov \n",
      "A donkey icon represents \n",
      "the Democratic Party.An Elephant icon represents the Republican Party\n",
      " A young woman cast her ballot in the 1964 presidential election. \n",
      "convention in Cincinnati, Ohio, Monday, August 16, 2004\n",
      "The Vice President of the United States works for the \n",
      "President in the Executive Branch. The Vice President is an advisor to the President, and a member of the \n",
      "President’s Cabinet. \n",
      "Under the Constitution, the role of the Vice President \n",
      "is very important. The Constitution says that if the \n",
      "President can no longer serve, then the Vice President becomes President \n",
      "There have been \n",
      "some Presidents who have not served all four years \n",
      "of their term. For example, there are Presidents who \n",
      "died while serving in office. When this has happened, the Vice President becomes the President. To find the name of the Vice President of the United States now, please visit: w hitehouse.gov \n",
      "If both the President and the Vice President can no longer serve, then the Speaker of the House of Representatives becomes President \n",
      "To find the name of the current Speaker of the House, please visit: speaker.gov \n",
      "Line of Succession\n",
      "Speaker of the House Vice President President\n",
      "\n",
      "---\n",
      "\n",
      "Page 12:\n",
      "THE EXECUTIVE BRANCH\n",
      "In this chapter , you will learn about: \n",
      " ❏The Executive Branch. \n",
      " ❏The President of the United States.\n",
      " ❏The agencies in the federal government. \n",
      "The Executive Branch is one branch or part of the U.S. government \n",
      "The President of the United States is in charge of the Executive \n",
      "Branch. \n",
      "The other parts of the Executive Branch are the President’s Cabinet, the \n",
      "Vice President of the United States, and the Executive Departments and agencies in the federal government. \n",
      "During the Constitutional Convention, the Founders were afraid  \n",
      "that if the President had too much power, then the President would be \n",
      "above the law and could become a king or queen. The Founders believed that in the United States no one is above the law. This is called the “rule of law” \n",
      "The Founders believed that the President should \n",
      "have the power to protect and serve the people of the United States. They also believed that the President should follow the rule of law.  \n",
      "THE PRESIDENT’S CABINET \n",
      "The Executive Branch includes the Executive Departments and agencies \n",
      "that are part of the federal government. The Executive Departments and agencies help the President to enforce laws, protect the country, work with other countries, and provide services to the people of the United States.  The people who lead the Executive Departments are mostly called Secretaries. For example, the person who leads the Department of Homeland Security is called the Secretary of Homeland Security.  U.S.  Government\n",
      "Legislative Branch\n",
      "(Congress)Executive Branch\n",
      "(President)Judicial Branch\n",
      "(Supreme Court)\n",
      "The leaders of the Executive Departments are also called Cabinet-level positions because the people who lead each agency are part of the  President’s Cabinet. A “cabinet” is another word for a “group of advisors. ” The President’s Cabinet advises the President \n",
      " The President can also choose to have other people from the federal  government serve on the Cabinet. \n",
      "Each Executive Department has many smaller agencies. For example, \n",
      "the Federal Bureau of Investigation (FBI) is part of the Department of Justice. Another example is U.S. Citizenship and Immigration Services (USCIS). USCIS is part of the Department of Homeland Security.\n",
      " ●Vice President of the  United StatesThe leader of the Department of Justice \n",
      "is not called a “Secretary. ” The leader of the Department of Justice is called the Attorney General.\n"
     ]
    }
   ],
   "source": [
    "context = get_context(question)\n",
    "print(context)"
   ]
  },
  {
   "cell_type": "markdown",
   "id": "49fbb58c",
   "metadata": {},
   "source": [
    "## LLM setup"
   ]
  },
  {
   "cell_type": "code",
   "execution_count": 126,
   "id": "44e36d6c",
   "metadata": {},
   "outputs": [],
   "source": [
    "def llm(system_prompt: str, user_prompt: str, model: str = \"gpt-4o-mini\") -> dict:\n",
    "    \"\"\"\n",
    "    Get an answer from the LLM using custom system and user prompts.\n",
    "    \n",
    "    Args:\n",
    "        system_prompt: The system message that defines the assistant's behavior and role\n",
    "        user_prompt: The user message containing the question and any context\n",
    "        model: OpenAI model to use (default: gpt-4o-mini)\n",
    "    \n",
    "    Returns:\n",
    "        The LLM's parsed JSON output as a dict. If parsing fails, returns {\"error\": \"...\"}.\n",
    "    \"\"\"\n",
    "    try:\n",
    "        completion = openai_client.chat.completions.create(\n",
    "            model=model,\n",
    "            messages=[\n",
    "                {\"role\": \"system\", \"content\": system_prompt},\n",
    "                {\"role\": \"user\", \"content\": user_prompt},\n",
    "            ],\n",
    "            response_format={\"type\": \"json_object\"},\n",
    "            temperature=0.3,\n",
    "        )\n",
    "\n",
    "        response_text = completion.choices[0].message.content\n",
    "\n",
    "        try:\n",
    "            data = json.loads(response_text)\n",
    "        except json.JSONDecodeError as e:\n",
    "            raise ValueError(f\"Failed to parse JSON response: {e}\\nRaw output: {response_text}\")\n",
    "\n",
    "        return data\n",
    "\n",
    "    except Exception as e:\n",
    "        return {\"error\": str(e)}\n"
   ]
  },
  {
   "cell_type": "markdown",
   "id": "d66d7645",
   "metadata": {},
   "source": [
    "### Prompts"
   ]
  },
  {
   "cell_type": "code",
   "execution_count": 127,
   "id": "1637eff4",
   "metadata": {},
   "outputs": [],
   "source": [
    "system_prompt = \"\"\"\n",
    "You are a friendly USCIS officer helping the user practice for the U.S. naturalization civics test.\n",
    "\n",
    "You will receive:\n",
    "- a *question* (one of the official USCIS civics test questions),\n",
    "- a list of acceptable *answers*,\n",
    "- the *user_state* (the U.S. state where the user lives),\n",
    "- the *user_answer* (the user’s attempt),\n",
    "- and some *context* (background facts retrieved from a knowledge base).\n",
    "\n",
    "Your task:\n",
    "1. Decide if the user's answer is correct based on the *answers* list.  \n",
    "   - For most questions, match the *user_answer* against the list of acceptable *answers*.  \n",
    "   - Accept small typos, alternate spellings, or equivalent forms (e.g., “Vance” = “JD Vance”).  \n",
    "   - Only use *context* to provide background_info, **not** to judge correctness unless it directly matches *answers*.  \n",
    "\n",
    "2. **If the question depends on the user's state** (for example, questions like “Name one of your state’s U.S. Senators” or “Who is your state’s governor?”):\n",
    "   - Look for answers that begin with the user’s state abbreviation (e.g., “AZ: …” for Arizona).  \n",
    "   - Only consider those entries as correct for that user.  \n",
    "   - When explaining correctness, remove the state code (e.g., return “Juanita” instead of “AZ: Juanita”).\n",
    "\n",
    "3. **If the question asks about “your U.S. Representative” or “name your Representative”:**\n",
    "   - Assume any of the listed answers is acceptable.  \n",
    "   - Always append this sentence to the *reason* field:  \n",
    "     \"Note: Your actual U.S. Representative depends on where you live. You can find yours at https://www.house.gov/representatives/find-your-representative\"\n",
    "\n",
    "4. If the user is correct, respond positively and encouragingly.  \n",
    "5. If the user is incorrect, gently explain why and provide the correct answer(s) for their state or the general list as appropriate.  \n",
    "6. Include one concise, interesting fact or detail drawn from the *context* that relates to the question or its answer.\n",
    "\n",
    "### Output format\n",
    "You must reply **only** in valid JSON — no commentary or extra text.\n",
    "\n",
    "output:\n",
    "{\n",
    "  \"success\": true | false,\n",
    "  \"reason\": \"Short, friendly message congratulating or explaining the correct answer.\",\n",
    "  \"background_info\": \"Concise, interesting fact or context related to the question.\"\n",
    "}\n",
    "\n",
    "\n",
    "### Style rules\n",
    "- Keep responses short and conversational, as if speaking during an interview.  \n",
    "- Ensure JSON is 100% valid (no trailing commas, no quotes around booleans).  \n",
    "- Do **not** repeat the question or the user’s answer unless helpful to the explanation.  \n",
    "\n",
    "### Examples\n",
    "\n",
    "**Example 1 (state-specific question, correct answer)**  \n",
    "**Input:**\n",
    "- Question: \"Name one of your state’s U.S. Senators.\"  \n",
    "- Answers: [\"AZ: Pepito García\", \"AZ: Juanita Cruz\", \"CA: Alex Padilla\", \"CA: Laphonza Butler\"]  \n",
    "- User State: \"AZ\"  \n",
    "- User Answer: \"Juanita\"  \n",
    "- Context: \"Each state elects two senators to represent it in the U.S. Senate for six-year terms.\"  \n",
    "\n",
    "**Output:**\n",
    "{\n",
    "  \"success\": true,\n",
    "  \"reason\": \"Correct! Juanita Cruz is one of the U.S. Senators from Arizona.\",\n",
    "  \"background_info\": \"Each state elects two senators to represent it in the U.S. Senate for six-year terms.\"\n",
    "}\n",
    "\n",
    "---\n",
    "\n",
    "**Example 2 (state-specific question, incorrect answer)**  \n",
    "**Input:**\n",
    "- Question: \"Name one of your state’s U.S. Senators.\"  \n",
    "- Answers: [\"AZ: Pepito García\", \"AZ: Juanita Cruz\", \"CA: Alex Padilla\", \"CA: Laphonza Butler\"]  \n",
    "- User State: \"AZ\"  \n",
    "- User Answer: \"Alex Padilla\"  \n",
    "- Context: \"California and Arizona each have two senators in the U.S. Senate.\"  \n",
    "\n",
    "**Output:**\n",
    "{\n",
    "  \"success\": false,\n",
    "  \"reason\": \"Not quite. Alex Padilla represents California. For Arizona, acceptable answers include Pepito García or Juanita Cruz.\",\n",
    "  \"background_info\": \"Each U.S. state has two senators who represent that state in the Senate.\"\n",
    "}\n",
    "\n",
    "---\n",
    "\n",
    "**Example 3 (state-independent question)**  \n",
    "**Input:**\n",
    "- Question: \"How many amendments does the U.S. Constitution have?\"  \n",
    "- Answers: [\"27\", \"twenty-seven\"]  \n",
    "- User State: \"FL\"  \n",
    "- User Answer: \"27\"  \n",
    "- Context: \"The first 10 amendments are known as the Bill of Rights.\"  \n",
    "\n",
    "**Output:**\n",
    "{\n",
    "  \"success\": true,\n",
    "  \"reason\": \"Correct! The Constitution has 27 amendments in total.\",\n",
    "  \"background_info\": \"The first 10 amendments are known as the Bill of Rights.\"\n",
    "}\n",
    "\n",
    "---\n",
    "\n",
    "**Example 4 (representative question)**  \n",
    "**Input:**\n",
    "- Question: \"Name your U.S. Representative.\"  \n",
    "- Answers: [\"CA: Nancy Pelosi\", \"CA: Jim Jordan\", \"CA: Alexandria Ocasio-Cortez\", \"CA: Kevin McCarthy\", \"CA: Elise Stefanik\"]  \n",
    "- User State: \"CA\"  \n",
    "- User Answer: \"Nancy Pelosi\"  \n",
    "- Context: \"Members of the U.S. House of Representatives serve two-year terms and represent specific districts within each state.\"  \n",
    "\n",
    "**Output:**\n",
    "{\n",
    "  \"success\": true,\n",
    "  \"reason\": \"Correct! Nancy Pelosi is one of the current U.S. Representatives in your state. Note: Your actual U.S. Representative depends on where you live. You can find yours at https://www.house.gov/representatives/find-your-representative\",\n",
    "  \"background_info\": \"Members of the House of Representatives serve two-year terms and represent districts within each state.\"\n",
    "}\n",
    "\"\"\""
   ]
  },
  {
   "cell_type": "code",
   "execution_count": 128,
   "id": "4f1fd808",
   "metadata": {},
   "outputs": [],
   "source": [
    "user_prompt = \"\"\"\n",
    "<question>\n",
    "{question}\n",
    "</question>\n",
    "\n",
    "<answers>\n",
    "{answers}\n",
    "</answers>\n",
    "\n",
    "<user_state>\n",
    "{user_state}\n",
    "</user_state>\n",
    "\n",
    "<user_answer>\n",
    "{user_answer}\n",
    "</user_answer>\n",
    "\n",
    "<context>\n",
    "{context}\n",
    "</context>\n",
    "\"\"\""
   ]
  },
  {
   "cell_type": "markdown",
   "id": "29079668",
   "metadata": {},
   "source": [
    "## QNA retrieval setup"
   ]
  },
  {
   "cell_type": "code",
   "execution_count": 129,
   "id": "a5420777",
   "metadata": {},
   "outputs": [],
   "source": [
    "# establish user selections\n",
    "test_year = 2008\n",
    "user_state = 'AZ'"
   ]
  },
  {
   "cell_type": "code",
   "execution_count": 130,
   "id": "998029fa",
   "metadata": {},
   "outputs": [],
   "source": [
    "# open the QnA\n",
    "filename = f\"../documents/{test_year}_civics_test_qa_pairs.json\"\n",
    "\n",
    "with open(filename, \"r\") as f:\n",
    "    data = json.load(f)"
   ]
  },
  {
   "cell_type": "code",
   "execution_count": 131,
   "id": "1970e78e",
   "metadata": {},
   "outputs": [],
   "source": [
    "# select a random entry\n",
    "random_entry = random.choice(data)\n",
    "\n",
    "# get the question and answer\n",
    "question = random_entry['question']\n",
    "answers = random_entry['answers']"
   ]
  },
  {
   "cell_type": "code",
   "execution_count": 132,
   "id": "18d619a8",
   "metadata": {},
   "outputs": [],
   "source": [
    "# pretend the user answered this thing\n",
    "ans_system_prompt =f\"Pretend you are a US immigrant living in {user_state}. Answer the *question* accurately and concisely. Output must be valid JSON only: {{\\\"answer\\\": \\\"<your answer>\\\"}}.\"\n",
    "ans_user_prompt =f\"<question> {question} </question>\"\n",
    "\n",
    "output = llm(ans_system_prompt,ans_user_prompt)\n",
    "user_answer = output['answer']"
   ]
  },
  {
   "cell_type": "code",
   "execution_count": 133,
   "id": "a7e7fe2d",
   "metadata": {},
   "outputs": [
    {
     "name": "stdout",
     "output_type": "stream",
     "text": [
      "question: Name one branch or part of the government.\n",
      "possible answer(s): ['Congress', 'legislative', 'President', 'executive', 'the courts', 'judicial']\n",
      "user answer: Legislative Branch\n"
     ]
    }
   ],
   "source": [
    "print(f'question: {question}')\n",
    "print(f'possible answer(s): {answers}')\n",
    "print(f'user answer: {user_answer}')"
   ]
  },
  {
   "cell_type": "markdown",
   "id": "61335e85",
   "metadata": {},
   "source": [
    "## RAG"
   ]
  },
  {
   "cell_type": "code",
   "execution_count": 134,
   "id": "01b0695e",
   "metadata": {},
   "outputs": [],
   "source": [
    "def rag(question:str, answers: str, user_state: str, user_answer: str,model: str=\"gpt-4o-mini\"):\n",
    "    # get context\n",
    "    context = get_context(question)\n",
    "    # add to prompt alongside other information\n",
    "    qna_user_prompt = user_prompt.format(question=question,answers=answers,user_state=user_state,user_answer=user_answer,context=context)\n",
    "    # send all to the llm (note that llm already parses the output into json)\n",
    "    return llm(system_prompt,qna_user_prompt,model)"
   ]
  },
  {
   "cell_type": "code",
   "execution_count": 135,
   "id": "911cf3cf",
   "metadata": {},
   "outputs": [],
   "source": [
    "response = rag(question,answers,user_state,user_answer)"
   ]
  },
  {
   "cell_type": "code",
   "execution_count": 136,
   "id": "3f916af0",
   "metadata": {},
   "outputs": [
    {
     "data": {
      "text/plain": [
       "{'success': True,\n",
       " 'reason': 'Correct! The Legislative Branch is one of the three branches of the U.S. government.',\n",
       " 'background_info': 'The three branches of government are the Legislative Branch (Congress), the Executive Branch (President), and the Judicial Branch (Supreme Court).'}"
      ]
     },
     "execution_count": 136,
     "metadata": {},
     "output_type": "execute_result"
    }
   ],
   "source": [
    "response"
   ]
  }
 ],
 "metadata": {
  "kernelspec": {
   "display_name": ".venv",
   "language": "python",
   "name": "python3"
  },
  "language_info": {
   "codemirror_mode": {
    "name": "ipython",
    "version": 3
   },
   "file_extension": ".py",
   "mimetype": "text/x-python",
   "name": "python",
   "nbconvert_exporter": "python",
   "pygments_lexer": "ipython3",
   "version": "3.13.5"
  }
 },
 "nbformat": 4,
 "nbformat_minor": 5
}
